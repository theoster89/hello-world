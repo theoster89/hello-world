{
 "cells": [
  {
   "cell_type": "code",
   "execution_count": null,
   "metadata": {},
   "outputs": [],
   "source": [
    "#Problem 1\n",
    "sum1=0\n",
    "sum2=0\n",
    "for index in range(1,1000):\n",
    "    \n",
    "    if index%3==0:\n",
    "        sum1=sum1+index\n",
    "        \n",
    "    elif index%5==0:\n",
    "        sum2=sum2+index\n",
    "        \n",
    "   \n",
    "sum=sum1+sum2\n",
    "print(sum)\n",
    "print(sum1)\n",
    "print(sum2)"
   ]
  },
  {
   "cell_type": "code",
   "execution_count": null,
   "metadata": {},
   "outputs": [],
   "source": [
    "#Problem 2\n",
    "fib=[1,2,3]\n",
    "index=2\n",
    "while fib[index]<4000000:\n",
    "    \n",
    "    fib.append(fib[index-1]+fib[index])\n",
    "    index=index+1\n",
    "    \n",
    "    \n"
   
   "#Problem 2-Remake\n",
    
    "def fibonum(n):\n",
    "#Returns n fibonacci numbers\n",
    
    "a, b = 0, 1\n",
    "list = []\n",
    "while a < n:\n",
        
        "a, b = b, a + b\n",
       " if a<n:\n",
           " list.append(a) \n",
            
    "evensum=[i for i in list if i%2==0]\n",
    "return sum(evensum)\n",
   
   
   ]
  },
  {
   "cell_type": "code",
   "execution_count": null,
   "metadata": {},
   "outputs": [],
   "source": [
    "print(fib)"
   ]
  },
  {
   "cell_type": "code",
   "execution_count": null,
   "metadata": {},
   "outputs": [],
   "source": [
    "import pandas as pd\n",
    "len(fib)"
   ]
  },
  {
   "cell_type": "code",
   "execution_count": null,
   "metadata": {},
   "outputs": [],
   "source": [
    "summation=0\n",
    "for index in fib:\n",
    "    if index%2:\n",
    "        summation=summation+index\n",
    "summation"
   ]
  },
  {
   "cell_type": "code",
   "execution_count": null,
   "metadata": {},
   "outputs": [],
   "source": [
    "print(fib)"
   ]
  },
  {
   "cell_type": "code",
   "execution_count": null,
   "metadata": {},
   "outputs": [],
   "source": [
    "len(fib)"
   ]
  },
  {
   "cell_type": "code",
   "execution_count": null,
   "metadata": {},
   "outputs": [],
   "source": [
    "summation"
   ]
  },
  {
   "cell_type": "code",
   "execution_count": null,
   "metadata": {},
   "outputs": [],
   "source": [
    "for index in fib[0:-1]:\n",
    "    print (index)"
   ]
  },
  {
   "cell_type": "code",
   "execution_count": null,
   "metadata": {},
   "outputs": [],
   "source": [
    "summation=0\n",
    "for index in fib[0:-1]:\n",
    "    if index%2 == False:\n",
    "        summation=summation+index\n",
    "        print(index)\n",
    "summation"
   ]
  },
  {
   "cell_type": "code",
   "execution_count": null,
   "metadata": {},
   "outputs": [],
   "source": [
    "index=4%2\n",
    "print(index)\n",
    "type(index)"
   ]
  },
  {
   "cell_type": "code",
   "execution_count": null,
   "metadata": {},
   "outputs": [],
   "source": [
    "number=600851475143\n",
    "factors=[]\n",
    "primes=[]\n",
    "maxprime=[]\n",
    "number2=number\n",
    "for index in range(2,number+1):\n",
    "    if index==number2: \n",
    "        primes.append(index)\n",
    "        break\n",
    "    if number2%index==False:\n",
    "        primes.append(index)\n",
    "        number2=number2/index\n",
    "max(primes)    "
   ]
  },
  {
   "cell_type": "code",
   "execution_count": null,
   "metadata": {},
   "outputs": [],
   "source": [
    "factors"
   ]
  },
  {
   "cell_type": "code",
   "execution_count": null,
   "metadata": {},
   "outputs": [],
   "source": [
    "primes=[]\n",
    "for factor in factors[1:]:\n",
    "    for index in range(2,factor):\n",
    "        if factor%index==False: break\n",
    "        if index==factor-1:\n",
    "            primes.append(factor)\n",
    "        "
   ]
  },
  {
   "cell_type": "code",
   "execution_count": null,
   "metadata": {},
   "outputs": [],
   "source": [
    "primes"
   ]
  },
  {
   "cell_type": "code",
   "execution_count": null,
   "metadata": {},
   "outputs": [],
   "source": [
    "max(primes)"
   ]
  },
  {
   "cell_type": "code",
   "execution_count": null,
   "metadata": {},
   "outputs": [],
   "source": [
    "import sympy as sym\n",
    "\n",
    "primes=sym.primerange(1,13195)\n",
    "\n"
   ]
  },
  {
   "cell_type": "code",
   "execution_count": null,
   "metadata": {},
   "outputs": [],
   "source": [
    "max(primes)"
   ]
  },
  {
   "cell_type": "code",
   "execution_count": null,
   "metadata": {},
   "outputs": [],
   "source": [
    "len(primes)"
   ]
  },
  {
   "cell_type": "code",
   "execution_count": null,
   "metadata": {},
   "outputs": [],
   "source": [
    "for i in range(4,1,-1):\n",
    "    print (i)"
   ]
  },
  {
   "cell_type": "code",
   "execution_count": null,
   "metadata": {},
   "outputs": [],
   "source": [
    "factor=[1]\n",
    "len(factor)"
   ]
  },
  {
   "cell_type": "code",
   "execution_count": null,
   "metadata": {},
   "outputs": [],
   "source": [
    "1000*1000"
   ]
  },
  {
   "cell_type": "code",
   "execution_count": null,
   "metadata": {},
   "outputs": [],
   "source": [
    "600*600"
   ]
  },
  {
   "cell_type": "code",
   "execution_count": null,
   "metadata": {},
   "outputs": [],
   "source": [
    "900*900"
   ]
  },
  {
   "cell_type": "code",
   "execution_count": null,
   "metadata": {},
   "outputs": [],
   "source": [
    "#PROBLEM 4\n",
    "\n",
    "number=[]\n",
    "\n",
    "for i in range(100,1000):\n",
    "    for j in range(100,1000):\n",
    "        num=str(i*j)\n",
    "        if num[0]==num[-1] and num[1]==num[-2] and num[2]==num[-3]:\n",
    "            number.append(int(num))\n",
    "\n",
    "\n",
    "max(number)"
   ]
  },
  {
   "cell_type": "code",
   "execution_count": null,
   "metadata": {},
   "outputs": [],
   "source": [
    "number[-1]"
   ]
  },
  {
   "cell_type": "code",
   "execution_count": null,
   "metadata": {},
   "outputs": [],
   "source": [
    "value=str(value)"
   ]
  },
  {
   "cell_type": "code",
   "execution_count": null,
   "metadata": {},
   "outputs": [],
   "source": [
    "value[1]"
   ]
  },
  {
   "cell_type": "code",
   "execution_count": null,
   "metadata": {},
   "outputs": [],
   "source": [
    "101*101"
   ]
  },
  {
   "cell_type": "code",
   "execution_count": null,
   "metadata": {},
   "outputs": [],
   "source": [
    "max(int(number)"
   ]
  },
  {
   "cell_type": "code",
   "execution_count": null,
   "metadata": {},
   "outputs": [],
   "source": [
    "#PROBLEM 5\n",
    "\n",
    "count=2000\n",
    "condition=False\n",
    "max=10\n",
    "while condition==False:\n",
    "    count=count+1\n",
    "    for index in range(1,max+1):\n",
    "        \n",
    "        remainder=count%index\n",
    "        if remainder==True: continue\n",
    "    \n",
    "        elif remainder==False and index==max:\n",
    "            condition==True\n",
    "            break\n",
    "count           "
   ]
  },
  {
   "cell_type": "code",
   "execution_count": null,
   "metadata": {},
   "outputs": [],
   "source": [
    "import numpy as np\n",
    "\n",
    "condition=False\n",
    "max=20\n",
    "number=[]\n",
    "\n",
    "for count in range(100000000,1000000000):\n",
    "\n",
    "    for index in range(1,max+1):\n",
    "        \n",
    "        remainder=count%index\n",
    "\n",
    "        if remainder>0: break\n",
    "    \n",
    "        elif remainder==False and index==max:\n",
    "            condition==True\n",
    "            number.append(count)\n",
    "            break\n",
    "    if condition==True: break\n",
    "number           "
   ]
  },
  {
   "cell_type": "code",
   "execution_count": null,
   "metadata": {},
   "outputs": [],
   "source": [
    "#PROBLEM 6\n",
    "sum=0\n",
    "sum_sqr=0\n",
    "for i in range(1,101):\n",
    "    sum=sum+i\n",
    "    sum_sqr=sum_sqr+(i**2)\n",
    "dif=(sum**2)-sum_sqr\n",
    "dif"
   ]
  },
  {
   "cell_type": "code",
   "execution_count": null,
   "metadata": {},
   "outputs": [],
   "source": [
    "#PROBLEM 7\n",
    "\n",
    "count=4\n",
    "candidate=8\n",
    "while count<10001:\n",
    "\n",
    "    for index in range(2,candidate):\n",
    "        remainder=candidate%index\n",
    "        if remainder==False: \n",
    "            candidate+=1\n",
    "            continue\n",
    "        elif remainder>0 and index==candidate-1:\n",
    "            count+=1\n",
    "            candidate+=1\n",
    "            cand=candidate-1\n",
    "            break\n",
    "\n",
    "print(count,cand)\n",
    "\n"
   ]
  },
  {
   "cell_type": "code",
   "execution_count": null,
   "metadata": {},
   "outputs": [],
   "source": [
    "#PROBLEM 8\n",
    "\n",
    "num_str='73167176531330624919225119674426574742355349194934\\\n",
    "96983520312774506326239578318016984801869478851843\\\n",
    "85861560789112949495459501737958331952853208805511\\\n",
    "12540698747158523863050715693290963295227443043557\\\n",
    "66896648950445244523161731856403098711121722383113\\\n",
    "62229893423380308135336276614282806444486645238749\\\n",
    "30358907296290491560440772390713810515859307960866\\\n",
    "70172427121883998797908792274921901699720888093776\\\n",
    "65727333001053367881220235421809751254540594752243\\\n",
    "52584907711670556013604839586446706324415722155397\\\n",
    "53697817977846174064955149290862569321978468622482\\\n",
    "83972241375657056057490261407972968652414535100474\\\n",
    "82166370484403199890008895243450658541227588666881\\\n",
    "16427171479924442928230863465674813919123162824586\\\n",
    "17866458359124566529476545682848912883142607690042\\\n",
    "24219022671055626321111109370544217506941658960408\\\n",
    "07198403850962455444362981230987879927244284909188\\\n",
    "84580156166097919133875499200524063689912560717606\\\n",
    "05886116467109405077541002256983155200055935729725\\\n",
    "71636269561882670428252483600823257530420752963450'\n",
    "\n",
    "candidate_highest=0\n",
    "\n",
    "for i in range(0,1001-13):\n",
    "    candidate=int(num_str[i])*int(num_str[i+1])*int(num_str[i+2])*int(num_str[i+3])*int(num_str[i+4])\\\n",
    "    *int(num_str[i+5])*int(num_str[i+6])*int(num_str[i+7])*int(num_str[i+8])*int(num_str[i+9])\\\n",
    "    *int(num_str[i+10])*int(num_str[i+11])*int(num_str[i+12])\n",
    "    if candidate>candidate_highest:\n",
    "        candidate_highest=candidate\n",
    "print(candidate_highest)\n",
    "print()                                                     "
   ]
  },
  {
   "cell_type": "code",
   "execution_count": null,
   "metadata": {},
   "outputs": [],
   "source": [
    "#PROBLEM 9\n",
    "\n",
    "import math\n",
    "for a in range(100,501):\n",
    "    for b in range (100,501):\n",
    "        c=math.sqrt((a**2)+b**2)\n",
    "        result=a+b+c\n",
    "        if result==1000: break\n",
    "    if result==1000: break\n",
    "product=a*b*c\n"
   ]
  },
  {
   "cell_type": "code",
   "execution_count": null,
   "metadata": {},
   "outputs": [],
   "source": [
    "#PROBLEM 10\n",
    "\n",
    "number=2000000\n",
    "factors=[]\n",
    "primes=[]\n",
    "maxprime=[]\n",
    "number2=number-1\n",
    "primes.append(2)\n",
    "sum=2\n",
    "for candidate in range(3,number):\n",
    "    for index2 in range(2,candidate):\n",
    "        remainder=candidate%index2\n",
    "\n",
    "        if remainder==0: break\n",
    "\n",
    "        if index2==candidate-1 and remainder>0:\n",
    "            sum=sum+candidate\n",
    "            #primes.append(candidate)\n",
    "            print(candidate, sum)\n",
    "\n",
    "\n",
    "\n"
   ]
  },
  {
   "cell_type": "code",
   "execution_count": null,
   "metadata": {},
   "outputs": [],
   "source": [
    "primes"
   ]
  },
  {
   "cell_type": "code",
   "execution_count": null,
   "metadata": {},
   "outputs": [],
   "source": [
    "sum(primes)"
   ]
  },
  {
   "cell_type": "code",
   "execution_count": null,
   "metadata": {},
   "outputs": [],
   "source": [
    "#PROBLEM 11\n",
    "\n",
    "string='08 02 22 97 38 15 00 40 00 75 04 05 07 78 52 12 50 77 91 08,\\\n",
    " 49 49 99 40 17 81 18 57 60 87 17 40 98 43 69 48 04 56 62 00,\\\n",
    " 81 49 31 73 55 79 14 29 93 71 40 67 53 88 30 03 49 13 36 65,\\\n",
    " 52 70 95 23 04 60 11 42 69 24 68 56 01 32 56 71 37 02 36 91,\\\n",
    " 22 31 16 71 51 67 63 89 41 92 36 54 22 40 40 28 66 33 13 80,\\\n",
    " 24 47 32 60 99 03 45 02 44 75 33 53 78 36 84 20 35 17 12 50,\\\n",
    " 32 98 81 28 64 23 67 10 26 38 40 67 59 54 70 66 18 38 64 70,\\\n",
    " 67 26 20 68 02 62 12 20 95 63 94 39 63 08 40 91 66 49 94 21,\\\n",
    " 24 55 58 05 66 73 99 26 97 17 78 78 96 83 14 88 34 89 63 72,\\\n",
    " 21 36 23 09 75 00 76 44 20 45 35 14 00 61 33 97 34 31 33 95,\\\n",
    " 78 17 53 28 22 75 31 67 15 94 03 80 04 62 16 14 09 53 56 92,\\\n",
    " 16 39 05 42 96 35 31 47 55 58 88 24 00 17 54 24 36 29 85 57,\\\n",
    " 86 56 00 48 35 71 89 07 05 44 44 37 44 60 21 58 51 54 17 58,\\\n",
    " 19 80 81 68 05 94 47 69 28 73 92 13 86 52 17 77 04 89 55 40,\\\n",
    " 04 52 08 83 97 35 99 16 07 97 57 32 16 26 26 79 33 27 98 66,\\\n",
    " 88 36 68 87 57 62 20 72 03 46 33 67 46 55 12 32 63 93 53 69,\\\n",
    " 04 42 16 73 38 25 39 11 24 94 72 18 08 46 29 32 40 62 76 36,\\\n",
    " 20 69 36 41 72 30 23 88 34 62 99 69 82 67 59 85 74 04 36 16,\\\n",
    " 20 73 35 29 78 31 90 01 74 31 49 71 48 86 81 16 23 57 05 54,\\\n",
    " 01 70 54 71 83 51 54 69 16 92 33 48 61 43 52 01 89 19 67 48'\n",
    "\n"
   ]
  },
  {
   "cell_type": "code",
   "execution_count": null,
   "metadata": {},
   "outputs": [],
   "source": [
    "string"
   ]
  },
  {
   "cell_type": "code",
   "execution_count": null,
   "metadata": {},
   "outputs": [],
   "source": [
    "lines=string.split(',')\n",
    "\n",
    "count=0\n",
    "matrix=[]\n",
    "for line in lines:\n",
    "\n",
    "    numbers=line.split()\n",
    "\n",
    "    matrix.append(numbers)"
   ]
  },
  {
   "cell_type": "code",
   "execution_count": null,
   "metadata": {},
   "outputs": [],
   "source": [
    "candidate_highest_hor=0\n",
    "candidate_highest_ver=0\n",
    "candidate_highest_diag_ulbr=0\n",
    "#Horizontal Only\n",
    "for j in range(0,20):\n",
    "    for i in range(0,19-2):\n",
    "        \n",
    "        \n",
    "        candidate_hor=int(matrix[j][i])*int(matrix[j][i+1])*int(matrix[j][i+2])*int(matrix[j][i+3])\n",
    "        if candidate_hor>candidate_highest_hor:\n",
    "        candidate_highest_hor=candidate_hor\n",
    "        \n",
    "#Vertical Only\n",
    "for i in range(0,20):        \n",
    "    for j in range(0,19-2):\n",
    "        \n",
    "        candidate_ver=int(matrix[j][i])*int(matrix[j][i+1])*int(matrix[j][i+2])*int(matrix[j][i+3])\n",
    "        if candidate_ver>candidate_highest_ver:\n",
    "        candidate_highest_ver=candidate_ver\n",
    "        \n",
    "#Diagonals from upper left to bottom right only:\n",
    "\n"
   ]
  },
  {
   "cell_type": "code",
   "execution_count": null,
   "metadata": {},
   "outputs": [],
   "source": [
    "    candidate=int(num_str[i])*int(num_str[i+1])*int(num_str[i+2])\\\n",
    "    *int(num_str[i+3])*int(num_str[i+4])\n",
    "    if candidate>candidate_highest:\n",
    "        candidate_highest=candidate\n",
    "print(candidate_highest)\n",
    "print()              \n",
    "\n",
    "    "
   ]
  },
  {
   "cell_type": "code",
   "execution_count": null,
   "metadata": {},
   "outputs": [],
   "source": []
  },
  {
   "cell_type": "code",
   "execution_count": null,
   "metadata": {},
   "outputs": [],
   "source": [
    "candidate_highest=0\n",
    "num_str=number\n",
    "for i in range(0,1001-13):\n",
    "    candidate=int(num_str[i])*int(num_str[i+1])*int(num_str[i+2])*int(num_str[i+3])*int(num_str[i+4])\\\n",
    "    *int(num_str[i+5])*int(num_str[i+6])*int(num_str[i+7])*int(num_str[i+8])*int(num_str[i+9])\\\n",
    "    *int(num_str[i+10])*int(num_str[i+11])*int(num_str[i+12])\n",
    "    if candidate>candidate_highest:\n",
    "        candidate_highest=candidate\n",
    "print(candidate_highest)\n",
    "print()                "
   ]
  },
  {
   "cell_type": "code",
   "execution_count": null,
   "metadata": {},
   "outputs": [],
   "source": [
    "#PROB 12\n",
    "\n",
    "nat=4\n",
    "trnum=6\n",
    "\n",
    "collect_dir=[]\n",
    "collect_trnum=[]\n",
    "dir=0\n",
    "divisor=[]\n",
    "\n",
    "while dir<=500:\n",
    "    \n",
    "    \n",
    "    trnum=trnum+nat\n",
    "    divisor=[]\n",
    "    \n",
    "    for index in range(2,trnum):\n",
    "        \n",
    "\n",
    "        if trnum%index==0:\n",
    "            \n",
    "            divisor.append(index)\n",
    "            \n",
    "    dir=len(divisor)+2\n",
    "    \n",
    "    collect_dir.append(dir)\n",
    "    \n",
    "    collect_trnum.append(trnum)\n",
    "\n",
    "\n",
    "\n",
    "\n",
    "\n",
    "    nat+=1\n",
    "\n",
    "print(collect_trnum,collect_dir)"
   ]
  },
  {
   "cell_type": "code",
   "execution_count": null,
   "metadata": {},
   "outputs": [],
   "source": []
  },
  {
   "cell_type": "code",
   "execution_count": null,
   "metadata": {},
   "outputs": [],
   "source": []
  },
  {
   "cell_type": "code",
   "execution_count": null,
   "metadata": {},
   "outputs": [],
   "source": []
  },
  {
   "cell_type": "code",
   "execution_count": null,
   "metadata": {},
   "outputs": [],
   "source": []
  },
  {
   "cell_type": "code",
   "execution_count": null,
   "metadata": {},
   "outputs": [],
   "source": [
    "#PROB 14\n",
    "\n",
    "counts=[]\n",
    "#startingnumber=13\n",
    "\n",
    "recordn=[]\n",
    "maxcount=0\n",
    "for startingnumber in range(1000000,500000,-1):\n",
    "    count=1\n",
    "    n=startingnumber\n",
    "    while n>1:\n",
    "        if n%2==0: \n",
    "            n=n/2\n",
    "        else: n=3*n+1\n",
    "        count=count+1\n",
    "    recordn.append(startingnumber)\n",
    "    counts.append(count)  \n",
    "    if maxcount<count:\n",
    "        maxcount=startingnumber\n",
    "\n",
    "recordn[counts.index(max(counts))] \n",
    "\n"
   ]
  },
  {
   "cell_type": "code",
   "execution_count": null,
   "metadata": {},
   "outputs": [],
   "source": [
    "#PROB 15"
   ]
  },
  {
   "cell_type": "code",
   "execution_count": null,
   "metadata": {},
   "outputs": [],
   "source": [
    "n=21\n",
    "T={}\n",
    "for rows in range(0,n):\n",
    "    T[rows]=[1]*(n)\n",
    "\n",
    "    \n",
    "for i in range(1,n):\n",
    "    \n",
    "    for j in range(1,n):\n",
    "        \n",
    "        T[i][j]=T[i-1][j]+T[i][j-1]\n",
    "\n",
    "T"
   ]
  },
  {
   "cell_type": "code",
   "execution_count": null,
   "metadata": {},
   "outputs": [],
   "source": [
    "#PROB 16\n",
    "import math\n",
    "\n",
    "number=2**1000\n",
    "sum=0\n",
    "digits=(str(number))\n",
    "\n",
    "for digit in digits:\n",
    "    sum=int(digit)+sum\n",
    "print(sum)"
   ]
  },
  {
   "cell_type": "code",
   "execution_count": null,
   "metadata": {},
   "outputs": [],
   "source": [
    "#PROB 17\n",
    "\n",
    "dictionary={\n",
    "    \n",
    "    '1':'one',\n",
    "    '2':'two',\n",
    "    '3':'three',\n",
    "    '4':'four',\n",
    "    '5':'five',\n",
    "    '6':'six',\n",
    "    '7':'seven',\n",
    "    '8':'eight',\n",
    "    '9':'nine',    \n",
    "    '11':'eleven',\n",
    "    '12':'twelve',\n",
    "    '13':'thirteen',\n",
    "    '10':'ten',\n",
    "    '18':'eighteen',\n",
    "    '15':'fifteen'\n",
    "    \n",
    "    \n",
    "    \n",
    "    \n",
    "    }\n",
    "dictionary2={\n",
    "    \n",
    "    '2':'twenty',\n",
    "    '3':'thirty',\n",
    "    '4':'forty',\n",
    "    '5':'fifty',\n",
    "    '6':'sixty',\n",
    "    '7':'seventy',\n",
    "    '8':'eighty',\n",
    "    '9':'ninety',\n",
    "    '1':'ten'    \n",
    "    \n",
    "}\n",
    "\n",
    "\n",
    "\n",
    "\n"
   ]
  },
  {
   "cell_type": "code",
   "execution_count": null,
   "metadata": {},
   "outputs": [],
   "source": [
    "\n",
    "newnumber=[]\n",
    "\n",
    "sum=0\n",
    "\n",
    "for index in range(1,501):\n",
    "\n",
    "\n",
    "    if str(index) not in dictionary:\n",
    "        \n",
    "        length=len(str(index))\n",
    "        if length==2:\n",
    "            if index<20:\n",
    "                newnumber=str([digit for digit in str(index)[1]])\n",
    "                \n",
    "                search=dictionary[(newnumber)[2]]\n",
    "                nwords=search+'teen'\n",
    "\n",
    "            if index>=20:                      #I want to extract the first digit\n",
    "\n",
    "\n",
    "                firstdig=str([digit for digit in str(index)[0]])\n",
    "                secondig=str([digit for digit in str(index)[1]])\n",
    "\n",
    "\n",
    "                number=str(firstdig[0])\n",
    "\n",
    "                decade=dictionary2[firstdig[2]]\n",
    "                \n",
    "                if float(str(secondig)[2]) !=0:\n",
    "                    nwords=decade+dictionary[str(secondig)[2]]\n",
    "                else:\n",
    "                    nwords=decade\n",
    "\n",
    "\n",
    "\n",
    "\n",
    "\n",
    "        if length==3:\n",
    "                firstdig=str([digit for digit in str(index)[0]])\n",
    "                secondig=[digit for digit in str(index)[1]] \n",
    "                thirdig=[digit for digit in str(index)[2]]\n",
    "                print(firstdig,secondig,thirdig)\n",
    "\n",
    "\n",
    "                if float(str(thirdig)[2])==0 and float(str(secondig)[2])>0:\n",
    "\n",
    "                    decade2=dictionary2[str(secondig)[2]]\n",
    "                    nwords=f'{dictionary[str(firstdig)[2]]}hundredand{decade2}'\n",
    "                    \n",
    "                elif float(str(secondig)[2])==0 and float(str(thirdig)[2])>0:\n",
    "                    \n",
    "                    number=dictionary[str(thirdig)[2]]  \n",
    "                    nwords=f'{dictionary[str(firstdig)[2]]}hundredand{number}'\n",
    "                    \n",
    "                elif float(str(thirdig)[2])==0 and float(str(secondig)[2])==0:\n",
    "                    \n",
    "                    nwords=f'{dictionary[str(firstdig)[2]]}hundred'\n",
    "                    \n",
    "                elif float(str(secondig)[2])==1 and float(str(thirdig)[2])>0:\n",
    "                    \n",
    "                    decade=''.join([digit for digit in str(index)[-2:]])\n",
    "                    print(decade)\n",
    "                     \n",
    "                    if str(decade) not in dictionary:\n",
    "                            \n",
    "\n",
    "                        search=dictionary[str(thirdig)[2]]\n",
    "                        nwords=f'{dictionary[str(firstdig)[2]]}hundredand{search}teen'\n",
    "                    else:\n",
    "                        search=dictionary[decade]\n",
    "                        nwords=f'{dictionary[str(firstdig)[2]]}hundredand{search}'\n",
    "                        \n",
    "                else:\n",
    "                    decade2=dictionary2[str(secondig)[2]]\n",
    "                    nwords=f'{dictionary[str(firstdig)[2]]}hundredand{decade2}{dictionary[str(thirdig)[2]]}'\n",
    "                    \n",
    "\n",
    "    else:\n",
    "\n",
    "        index=str(index)\n",
    "        nwords=dictionary[index]\n",
    "        \n",
    "    sum=sum+len(nwords)\n",
    "    print(index)\n",
    "    print(nwords)\n",
    "sum=sum+len('onethousand')\n",
    "print(sum)"
   ]
  },
  {
   "cell_type": "code",
   "execution_count": null,
   "metadata": {},
   "outputs": [],
   "source": [
    "#PROBLEM 18\n",
    "\n",
    "\n",
    "text='75,\\\n",
    "95 64,\\\n",
    "17 47 82,\\\n",
    "18 35 87 10,\\\n",
    "20 04 82 47 65,\\\n",
    "19 01 23 75 03 34,\\\n",
    "88 02 77 73 07 63 67,\\\n",
    "99 65 04 28 06 16 70 92,\\\n",
    "41 41 26 56 83 40 80 70 33,\\\n",
    "41 48 72 33 47 32 37 16 94 29,\\\n",
    "53 71 44 65 25 43 91 52 97 51 14,\\\n",
    "70 11 33 28 77 73 17 78 39 68 17 57,\\\n",
    "91 71 52 38 17 14 91 43 58 50 27 29 48,\\\n",
    "63 66 04 68 89 53 67 30 73 16 69 87 40 31,\\\n",
    "04 62 98 27 23 09 70 98 73 93 38 53 60 04 23'\n",
    "\n",
    "text_list=text.split(',')     "
   ]
  },
  {
   "cell_type": "code",
   "execution_count": null,
   "metadata": {},
   "outputs": [],
   "source": []
  },
  {
   "cell_type": "code",
   "execution_count": null,
   "metadata": {},
   "outputs": [],
   "source": [
    "numbers=[lines.split() for lines in text_list]"
   ]
  },
  {
   "cell_type": "code",
   "execution_count": null,
   "metadata": {
    "scrolled": true
   },
   "outputs": [],
   "source": [
    "len(numbers)"
   ]
  },
  {
   "cell_type": "code",
   "execution_count": null,
   "metadata": {},
   "outputs": [],
   "source": [
    "text_list"
   ]
  },
  {
   "cell_type": "code",
   "execution_count": null,
   "metadata": {},
   "outputs": [],
   "source": [
    "candidates=[]\n",
    "bestcandidates=[]\n",
    "\n",
    "sums=[]\n",
    "minim=0\n",
    "maxim=len(numbers[1])\n",
    "for vertindex in range(1,len(numbers)):\n",
    "    maxlineiteration=len(numbers[vertindex])\n",
    "    candidates=[]\n",
    "    sums=[]\n",
    "    \n",
    "    \n",
    "    for candidate in numbers[vertindex][minim:maxim]:\n",
    "        \n",
    "        candidates.append(candidate)\n",
    "        sum=int(candidate)\n",
    "        inlineindex=numbers[vertindex].index(candidate)\n",
    "        index_var=inlineindex \n",
    "        #print(candidate,index_var)\n",
    "        for sumindex_vert in range(vertindex+1,len(numbers)): #moves downwards to sum pyramid below the candidate\n",
    "            #print(sumindex_vert)\n",
    "            \n",
    "            index_var=index_var+1\n",
    "            \n",
    "            \n",
    "            for sumindex_horiz in range(inlineindex, index_var+1):\n",
    "                sum=sum+int(numbers[sumindex_vert][sumindex_horiz])\n",
    "                #print(sum,int(numbers[sumindex_vert][sumindex_horiz]))\n",
    "       \n",
    "        if len(sums)==0:\n",
    "            for i in range(minim):\n",
    "                sums.append(0)\n",
    "            \n",
    "        sums.append(sum)\n",
    "    \n",
    "                      \n",
    "    bestcandidate=numbers[vertindex][sums.index(max(sums))]    \n",
    "    \n",
    "    minim=numbers[vertindex].index(bestcandidate)  \n",
    "    maxim=numbers[vertindex].index(bestcandidate)+2\n",
    "    print(bestcandidate)\n",
    "     \n",
    "    bestcandidates.append(numbers[vertindex][sums.index(max(sums))])\n",
    "sum=0\n",
    "for numbers in bestcandidates[:-1]:\n",
    "\n",
    "    sum=sum+int(numbers)\n",
    "sum=sum+93+75\n",
    "sum\n",
    "        \n",
    "    "
   ]
  },
  {
   "cell_type": "code",
   "execution_count": null,
   "metadata": {},
   "outputs": [],
   "source": [
    "#PROBLEM 18 CORRECT\n",
    "\n",
    "numbers=[lines.split() for lines in text_list]\n",
    "numbers2=numbers\n",
    "for index in range (len(numbers)-2,-1,-1):\n",
    "\n",
    "    for index_hor in range(len(numbers[index])):\n",
    "\n",
    "        numbers2[index][index_hor]=int(numbers[index][index_hor])+int(max(numbers[index+1][index_hor],numbers[index+1][index_hor+1]))\n",
    "        \n",
    "                                                             "
   ]
  },
  {
   "cell_type": "code",
   "execution_count": null,
   "metadata": {},
   "outputs": [],
   "source": [
    "numbers2"
   ]
  },
  {
   "cell_type": "code",
   "execution_count": null,
   "metadata": {},
   "outputs": [],
   "source": [
    "#PROBLEM 19"
   ]
  },
  {
   "cell_type": "code",
   "execution_count": null,
   "metadata": {},
   "outputs": [],
   "source": [
    "dictionary={\n",
    "    '9':30,\n",
    "    '4':30,\n",
    "    '6':30,\n",
    "    '11':30\n",
    "    \n",
    "}\n",
    "record={}\n",
    "\n",
    "for months in range(1,13):\n",
    "    if str(months) not in dictionary and months!=2: \n",
    "        dictionary[str(months)]=31\n",
    "handler=0\n",
    "count=0\n",
    "countdays=0\n",
    "index=1\n",
    "    \n",
    "for year in range(1,99+2):\n",
    "\n",
    "    for month in range(1,12+1):\n",
    "\n",
    "        index1=str(month)\n",
    "        if year%4==0:\n",
    "            dictionary['2']=29\n",
    "        else:\n",
    "            dictionary['2']=28\n",
    "\n",
    "        presentmonthdays=dictionary[index1]\n",
    "        for days in range(1,presentmonthdays+1):\n",
    "            countdays=countdays+1\n",
    " \n",
    "            if days==1:\n",
    "                   \n",
    "                record[countdays]=[index,year,month]\n",
    "                index=index+1\n",
    "                \n",
    "for days in range(1,countdays):\n",
    "    if abs(handler-days)==7:\n",
    "        \n",
    "        handler=days\n",
    "        \n",
    "        if record.get(days,'False')!='False':\n",
    "            count=count+1\n",
    "            print(days)\n",
    "count=count-1 "
   ]
  },
  {
   "cell_type": "code",
   "execution_count": 12,
   "metadata": {},
   "outputs": [
    {
     "data": {
      "text/plain": [
       "648"
      ]
     },
     "execution_count": 12,
     "metadata": {},
     "output_type": "execute_result"
    }
   ],
   "source": [
    "#PROBLEM 20\n",
    "\n",
    "prod=1\n",
    "sum=0\n",
    "for numbers in range(100,0,-1):\n",
    "    prod=numbers*prod\n",
    "\n",
    "digits=str(prod).split()\n",
    "\n",
    "for number in digits[0]:\n",
    "    sum=sum+int(number)\n",
    "\n",
    "sum\n",
    "\n"
   ]
  },
  {
   "cell_type": "code",
   "execution_count": 7,
   "metadata": {},
   "outputs": [
    {
     "data": {
      "text/plain": [
       "93326215443944152681699238856266700490715968264381621468592963895217599993229915608941463976156518286253697920827223758251185210916864000000000000000000000000"
      ]
     },
     "execution_count": 7,
     "metadata": {},
     "output_type": "execute_result"
    }
   ],
   "source": [
    "prod"
   ]
  },
  {
   "cell_type": "code",
   "execution_count": 9,
   "metadata": {},
   "outputs": [
    {
     "data": {
      "text/plain": [
       "['93326215443944152681699238856266700490715968264381621468592963895217599993229915608941463976156518286253697920827223758251185210916864000000000000000000000000']"
      ]
     },
     "execution_count": 9,
     "metadata": {},
     "output_type": "execute_result"
    }
   ],
   "source": [
    "digits\n"
   ]
  },
  {
   "cell_type": "code",
   "execution_count": null,
   "metadata": {},
   "outputs": [],
   "source": []
  },
  {
   "cell_type": "code",
   "execution_count": null,
   "metadata": {},
   "outputs": [],
   "source": []
  },
  {
   "cell_type": "code",
   "execution_count": null,
   "metadata": {},
   "outputs": [],
   "source": []
  },
  {
   "cell_type": "code",
   "execution_count": null,
   "metadata": {},
   "outputs": [],
   "source": []
  },
  {
   "cell_type": "code",
   "execution_count": null,
   "metadata": {},
   "outputs": [],
   "source": []
  },
  {
   "cell_type": "code",
   "execution_count": null,
   "metadata": {
    "scrolled": true
   },
   "outputs": [],
   "source": [
    "\n"
   ]
  },
  {
   "cell_type": "code",
   "execution_count": null,
   "metadata": {
    "scrolled": true
   },
   "outputs": [],
   "source": []
  },
  {
   "cell_type": "code",
   "execution_count": null,
   "metadata": {},
   "outputs": [],
   "source": []
  },
  {
   "cell_type": "code",
   "execution_count": null,
   "metadata": {},
   "outputs": [],
   "source": []
  },
  {
   "cell_type": "code",
   "execution_count": null,
   "metadata": {},
   "outputs": [],
   "source": []
  },
  {
   "cell_type": "code",
   "execution_count": null,
   "metadata": {},
   "outputs": [],
   "source": []
  },
  {
   "cell_type": "code",
   "execution_count": null,
   "metadata": {},
   "outputs": [],
   "source": [
    "    "
   ]
  },
  {
   "cell_type": "code",
   "execution_count": null,
   "metadata": {},
   "outputs": [],
   "source": [
    "dif=abs(locationmax - numbersdammy[index].index(maximum))\n",
    "dif"
   ]
  },
  {
   "cell_type": "code",
   "execution_count": null,
   "metadata": {},
   "outputs": [],
   "source": [
    "type(numbersdammy[index].index(maximum))"
   ]
  },
  {
   "cell_type": "code",
   "execution_count": null,
   "metadata": {},
   "outputs": [],
   "source": [
    "\n",
    "\n"
   ]
  },
  {
   "cell_type": "code",
   "execution_count": null,
   "metadata": {},
   "outputs": [],
   "source": []
  },
  {
   "cell_type": "code",
   "execution_count": null,
   "metadata": {},
   "outputs": [],
   "source": []
  },
  {
   "cell_type": "code",
   "execution_count": null,
   "metadata": {},
   "outputs": [],
   "source": []
  },
  {
   "cell_type": "code",
   "execution_count": null,
   "metadata": {},
   "outputs": [],
   "source": []
  }
 ],
 "metadata": {
  "kernelspec": {
   "display_name": "Python 3",
   "language": "python",
   "name": "python3"
  },
  "language_info": {
   "codemirror_mode": {
    "name": "ipython",
    "version": 3
   },
   "file_extension": ".py",
   "mimetype": "text/x-python",
   "name": "python",
   "nbconvert_exporter": "python",
   "pygments_lexer": "ipython3",
   "version": "3.7.3"
  }
 },
 "nbformat": 4,
 "nbformat_minor": 2
}
